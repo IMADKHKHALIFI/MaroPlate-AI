{
 "cells": [
  {
   "cell_type": "code",
   "execution_count": 1,
   "id": "247d04be",
   "metadata": {},
   "outputs": [
    {
     "name": "stdout",
     "output_type": "stream",
     "text": [
      "hi\n"
     ]
    }
   ],
   "source": [
    "print(\"hi\")"
   ]
  },
  {
   "cell_type": "code",
   "execution_count": null,
   "id": "6176541d",
   "metadata": {},
   "outputs": [],
   "source": [
    "import cv2\n",
    "import os\n",
    "import numpy as np\n",
    "import matplotlib.pyplot as plt\n",
    "from sklearn.metrics import classification_report, confusion_matrix, ConfusionMatrixDisplay\n",
    "\n",
    "# 📁 Paths\n",
    "detection_cfg = \"weights/detection/yolov3-detection.cfg\"\n",
    "detection_weights = \"weights/detection/yolov3-detection_final.weights\"\n",
    "ocr_cfg = \"weights/ocr/yolov3-ocr.cfg\"\n",
    "ocr_weights = \"weights/ocr/yolov3-ocr_final.weights\"\n",
    "\n",
    "# 📦 Load Detection Model\n",
    "detection_net = cv2.dnn.readNetFromDarknet(detection_cfg, detection_weights)\n",
    "detection_net.setPreferableBackend(cv2.dnn.DNN_BACKEND_OPENCV)\n",
    "detection_net.setPreferableTarget(cv2.dnn.DNN_TARGET_CPU)\n",
    "\n",
    "# 📦 Load OCR Model\n",
    "ocr_net = cv2.dnn.readNetFromDarknet(ocr_cfg, ocr_weights)\n",
    "ocr_net.setPreferableBackend(cv2.dnn.DNN_BACKEND_OPENCV)\n",
    "ocr_net.setPreferableTarget(cv2.dnn.DNN_TARGET_CPU)\n",
    "\n",
    "# 📂 Dataset folder (images and labels)\n",
    "test_images_dir = \"data/test/images\"\n",
    "test_labels_dir = \"data/test/labels\"  # Assuming YOLO txt format\n",
    "\n",
    "# 📌 Load class names for OCR (digits + Arabic letter)\n",
    "ocr_classes = [str(i) for i in range(10)] + ['|', 'أ']  # Adapt as needed\n",
    "\n",
    "def get_output_layers(net):\n",
    "    layer_names = net.getLayerNames()\n",
    "    return [layer_names[i - 1] for i in net.getUnconnectedOutLayers()]\n",
    "\n",
    "# 🔍 Inference + Evaluation\n",
    "y_true = []\n",
    "y_pred = []\n",
    "\n",
    "for filename in os.listdir(test_images_dir):\n",
    "    if not filename.endswith('.jpg'):\n",
    "        continue\n",
    "    img_path = os.path.join(test_images_dir, filename)\n",
    "    image = cv2.imread(img_path)\n",
    "    height, width = image.shape[:2]\n",
    "\n",
    "    # ➤ Run OCR model\n",
    "    blob = cv2.dnn.blobFromImage(image, 1/255.0, (416, 416), swapRB=True, crop=False)\n",
    "    ocr_net.setInput(blob)\n",
    "    layer_outputs = ocr_net.forward(get_output_layers(ocr_net))\n",
    "\n",
    "    boxes, confidences, class_ids = [], [], []\n",
    "    for output in layer_outputs:\n",
    "        for detection in output:\n",
    "            scores = detection[5:]\n",
    "            class_id = np.argmax(scores)\n",
    "            conf = scores[class_id]\n",
    "            if conf > 0.5:\n",
    "                center_x, center_y, w, h = (detection[0:4] * np.array([width, height, width, height])).astype(\"int\")\n",
    "                x = int(center_x - w / 2)\n",
    "                y = int(center_y - h / 2)\n",
    "                boxes.append([x, y, int(w), int(h)])\n",
    "                confidences.append(float(conf))\n",
    "                class_ids.append(class_id)\n",
    "\n",
    "    # Apply NMS\n",
    "    indices = cv2.dnn.NMSBoxes(boxes, confidences, 0.5, 0.4)\n",
    "    pred = [ocr_classes[class_ids[i]] for i in indices.flatten()]\n",
    "    \n",
    "    # Get ground truth\n",
    "    label_path = os.path.join(test_labels_dir, filename.replace(\".jpg\", \".txt\"))\n",
    "    gt = []\n",
    "    with open(label_path, 'r') as f:\n",
    "        for line in f:\n",
    "            gt.append(ocr_classes[int(line.split()[0])])\n",
    "\n",
    "    y_true.extend(gt)\n",
    "    y_pred.extend(pred)\n",
    "\n",
    "# 📈 Metrics\n",
    "print(\"Classification Report:\")\n",
    "print(classification_report(y_true, y_pred, zero_division=0))\n",
    "\n",
    "# 🔲 Confusion Matrix\n",
    "cm = confusion_matrix(y_true, y_pred, labels=ocr_classes)\n",
    "disp = ConfusionMatrixDisplay(confusion_matrix=cm, display_labels=ocr_classes)\n",
    "disp.plot(xticks_rotation='vertical')\n",
    "plt.title(\"Confusion Matrix (OCR Module)\")\n",
    "plt.show()\n"
   ]
  }
 ],
 "metadata": {
  "kernelspec": {
   "display_name": "projet_yolo_ocr",
   "language": "python",
   "name": "python3"
  },
  "language_info": {
   "codemirror_mode": {
    "name": "ipython",
    "version": 3
   },
   "file_extension": ".py",
   "mimetype": "text/x-python",
   "name": "python",
   "nbconvert_exporter": "python",
   "pygments_lexer": "ipython3",
   "version": "3.8.20"
  }
 },
 "nbformat": 4,
 "nbformat_minor": 5
}
